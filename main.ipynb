{
 "cells": [
  {
   "cell_type": "code",
   "execution_count": 1,
   "metadata": {},
   "outputs": [],
   "source": [
    "import pandas as pd"
   ]
  },
  {
   "cell_type": "markdown",
   "metadata": {},
   "source": [
    "#### Reading CSV data from File"
   ]
  },
  {
   "cell_type": "code",
   "execution_count": 2,
   "metadata": {},
   "outputs": [],
   "source": [
    "outcome = pd.read_csv(\"files/outcome_interview.csv\")\n",
    "event = pd.read_csv(\"files/event_interview.csv\")\n",
    "fighter = pd.read_csv(\"files/fighter_interview.csv\")"
   ]
  },
  {
   "cell_type": "markdown",
   "metadata": {},
   "source": [
    "#### Merging and renaming dataframes"
   ]
  },
  {
   "cell_type": "code",
   "execution_count": 3,
   "metadata": {},
   "outputs": [],
   "source": [
    "event = event.rename(columns={\"id\": \"event_id\"})\n",
    "result = pd.merge(outcome, event, on=\"event_id\", how=\"left\")\n",
    "result = result.rename(columns={\"name\": \"event_name\"})\n",
    "fighter = fighter.rename(columns={\"id\": \"fighter1_id\"})\n",
    "result = pd.merge(result, fighter, on=\"fighter1_id\", how=\"left\")\n",
    "result = result.rename(columns={\"name\": \"fighter1_name\", \"nationality\": \"fighter1_nationality\"})\n",
    "fighter = fighter.rename(columns={\"fighter1_id\": \"fighter2_id\"})\n",
    "result = pd.merge(result, fighter, on=\"fighter2_id\", how=\"left\")\n",
    "result = result.rename(columns={\"name\": \"fighter2_name\", \"nationality\": \"fighter2_nationality\"})"
   ]
  },
  {
   "cell_type": "markdown",
   "metadata": {},
   "source": [
    "#### Droping extra columns"
   ]
  },
  {
   "cell_type": "code",
   "execution_count": 4,
   "metadata": {},
   "outputs": [],
   "source": [
    "result = result.drop(columns=[\"id\", \"event_id\", \"fighter1_id\", \"fighter2_id\", \"winner_id\", \"date\", \"promoter\", \"location\", \"attendance\", \"created_at\", \"modified_at\"])"
   ]
  },
  {
   "cell_type": "markdown",
   "metadata": {},
   "source": [
    "#### Saving outcome in csv file"
   ]
  },
  {
   "cell_type": "code",
   "execution_count": 5,
   "metadata": {},
   "outputs": [],
   "source": [
    "result.to_csv(\"result.csv\", index=None, columns=['fighter1_name', 'fighter2_name', 'fighter1_nationality',\n",
    "       'fighter2_nationality', 'event_name'])"
   ]
  }
 ],
 "metadata": {
  "kernelspec": {
   "display_name": "Python 3",
   "language": "python",
   "name": "python3"
  },
  "language_info": {
   "codemirror_mode": {
    "name": "ipython",
    "version": 3
   },
   "file_extension": ".py",
   "mimetype": "text/x-python",
   "name": "python",
   "nbconvert_exporter": "python",
   "pygments_lexer": "ipython3",
   "version": "3.5.2"
  }
 },
 "nbformat": 4,
 "nbformat_minor": 2
}
